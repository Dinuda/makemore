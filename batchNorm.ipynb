{
 "cells": [
  {
   "cell_type": "code",
   "execution_count": 105,
   "id": "06316a1f",
   "metadata": {},
   "outputs": [],
   "source": [
    "import torch\n",
    "import math\n",
    "import torch.nn.functional as F\n",
    "import matplotlib.pyplot as plt\n",
    "%matplotlib inline\n",
    "\n",
    "words = open('names.txt', 'r').read().splitlines()"
   ]
  },
  {
   "cell_type": "code",
   "execution_count": 106,
   "id": "c6fa2618",
   "metadata": {},
   "outputs": [],
   "source": [
    "chars = sorted(list(set(''.join(words))))"
   ]
  },
  {
   "cell_type": "code",
   "execution_count": 107,
   "id": "b8581707",
   "metadata": {},
   "outputs": [],
   "source": [
    "stoi = {s:i+1 for i, s in enumerate(chars)}\n",
    "stoi['.'] = 0\n",
    "itos = {i:s for s,i in stoi.items()}\n",
    "vocab_size = len(itos)"
   ]
  },
  {
   "cell_type": "code",
   "execution_count": 108,
   "id": "93ee5797",
   "metadata": {},
   "outputs": [],
   "source": [
    "# build dataset\n",
    "\n",
    "block_size = 3\n",
    "\n",
    "def build_dataset(words):\n",
    "    X, Y = [], []\n",
    "    \n",
    "    for w in words:\n",
    "        context = [0] * block_size\n",
    "        for ch in w + '.':\n",
    "            ix = stoi[ch]\n",
    "            X.append(context)\n",
    "            Y.append(ix)\n",
    "            \n",
    "            context = context[1:] + [ix]\n",
    "            \n",
    "    X = torch.tensor(X)\n",
    "    Y = torch.tensor(Y)\n",
    "    return X, Y"
   ]
  },
  {
   "cell_type": "code",
   "execution_count": 109,
   "id": "0d647f2f",
   "metadata": {},
   "outputs": [],
   "source": [
    "# split into splits\n",
    "\n",
    "import random\n",
    "random.seed(21476891001)\n",
    "random.shuffle(words)\n",
    "\n",
    "n1 = int(len(words)*0.8)\n",
    "n2 = int(len(words)*0.9)\n",
    "\n",
    "Xtr, Ytr = build_dataset(words[:n1])\n",
    "Xdev, Ydev = build_dataset(words[n1:n2])\n",
    "Xte, Yte = build_dataset(words[n2:])"
   ]
  },
  {
   "cell_type": "code",
   "execution_count": 110,
   "id": "f97295a4",
   "metadata": {},
   "outputs": [
    {
     "name": "stdout",
     "output_type": "stream",
     "text": [
      "tensor(-0.0071) tensor(0.9991)\n",
      "tensor(0.0051) tensor(0.9979)\n"
     ]
    },
    {
     "data": {
      "text/plain": [
       "(array([1.000e+00, 1.000e+00, 0.000e+00, 0.000e+00, 0.000e+00, 2.000e+00,\n",
       "        0.000e+00, 0.000e+00, 0.000e+00, 2.000e+00, 1.000e+00, 1.000e+00,\n",
       "        1.000e+00, 2.000e+00, 5.000e+00, 4.000e+00, 3.000e+00, 7.000e+00,\n",
       "        4.000e+00, 8.000e+00, 9.000e+00, 1.100e+01, 1.700e+01, 2.700e+01,\n",
       "        3.000e+01, 3.800e+01, 5.000e+01, 4.200e+01, 5.400e+01, 9.700e+01,\n",
       "        1.120e+02, 1.070e+02, 1.480e+02, 1.660e+02, 1.970e+02, 2.690e+02,\n",
       "        3.340e+02, 3.670e+02, 4.570e+02, 5.210e+02, 6.290e+02, 8.210e+02,\n",
       "        9.690e+02, 1.158e+03, 1.349e+03, 1.664e+03, 1.905e+03, 2.258e+03,\n",
       "        2.535e+03, 2.977e+03, 3.332e+03, 3.938e+03, 4.269e+03, 4.845e+03,\n",
       "        5.402e+03, 6.035e+03, 6.346e+03, 6.893e+03, 7.462e+03, 7.861e+03,\n",
       "        8.048e+03, 8.374e+03, 8.620e+03, 8.488e+03, 8.381e+03, 8.173e+03,\n",
       "        7.748e+03, 7.303e+03, 6.907e+03, 6.325e+03, 5.804e+03, 5.315e+03,\n",
       "        4.772e+03, 4.179e+03, 3.829e+03, 3.301e+03, 2.849e+03, 2.495e+03,\n",
       "        2.182e+03, 1.893e+03, 1.578e+03, 1.297e+03, 1.108e+03, 9.070e+02,\n",
       "        7.620e+02, 6.450e+02, 5.570e+02, 4.590e+02, 3.430e+02, 2.860e+02,\n",
       "        2.290e+02, 2.170e+02, 1.800e+02, 1.340e+02, 9.700e+01, 9.200e+01,\n",
       "        9.400e+01, 5.200e+01, 5.700e+01, 3.400e+01, 3.900e+01, 2.700e+01,\n",
       "        2.100e+01, 1.000e+01, 7.000e+00, 8.000e+00, 9.000e+00, 2.000e+00,\n",
       "        4.000e+00, 3.000e+00, 3.000e+00, 3.000e+00, 3.000e+00, 1.000e+00,\n",
       "        0.000e+00, 3.000e+00]),\n",
       " array([-6.1394763 , -6.04178676, -5.94409721, -5.84640767, -5.74871813,\n",
       "        -5.65102859, -5.55333905, -5.4556495 , -5.35795996, -5.26027042,\n",
       "        -5.16258088, -5.06489133, -4.96720179, -4.86951225, -4.77182271,\n",
       "        -4.67413317, -4.57644362, -4.47875408, -4.38106454, -4.283375  ,\n",
       "        -4.18568545, -4.08799591, -3.99030637, -3.89261683, -3.79492728,\n",
       "        -3.69723774, -3.5995482 , -3.50185866, -3.40416912, -3.30647957,\n",
       "        -3.20879003, -3.11110049, -3.01341095, -2.9157214 , -2.81803186,\n",
       "        -2.72034232, -2.62265278, -2.52496324, -2.42727369, -2.32958415,\n",
       "        -2.23189461, -2.13420507, -2.03651552, -1.93882598, -1.84113644,\n",
       "        -1.7434469 , -1.64575735, -1.54806781, -1.45037827, -1.35268873,\n",
       "        -1.25499919, -1.15730964, -1.0596201 , -0.96193056, -0.86424102,\n",
       "        -0.76655147, -0.66886193, -0.57117239, -0.47348285, -0.3757933 ,\n",
       "        -0.27810376, -0.18041422, -0.08272468,  0.01496486,  0.11265441,\n",
       "         0.21034395,  0.30803349,  0.40572303,  0.50341258,  0.60110212,\n",
       "         0.69879166,  0.7964812 ,  0.89417074,  0.99186029,  1.08954983,\n",
       "         1.18723937,  1.28492891,  1.38261846,  1.480308  ,  1.57799754,\n",
       "         1.67568708,  1.77337663,  1.87106617,  1.96875571,  2.06644525,\n",
       "         2.16413479,  2.26182434,  2.35951388,  2.45720342,  2.55489296,\n",
       "         2.65258251,  2.75027205,  2.84796159,  2.94565113,  3.04334067,\n",
       "         3.14103022,  3.23871976,  3.3364093 ,  3.43409884,  3.53178839,\n",
       "         3.62947793,  3.72716747,  3.82485701,  3.92254656,  4.0202361 ,\n",
       "         4.11792564,  4.21561518,  4.31330472,  4.41099427,  4.50868381,\n",
       "         4.60637335,  4.70406289,  4.80175244,  4.89944198,  4.99713152,\n",
       "         5.09482106,  5.1925106 ]),\n",
       " <BarContainer object of 116 artists>)"
      ]
     },
     "execution_count": 110,
     "metadata": {},
     "output_type": "execute_result"
    },
    {
     "data": {
      "image/png": "[encoded data removed]",
      "text/plain": [
       "<Figure size 2000x500 with 2 Axes>"
      ]
     },
     "metadata": {},
     "output_type": "display_data"
    }
   ],
   "source": [
    "x = torch.randn(1000, 10) # 10 is called the fan in\n",
    "w = torch.randn(10, 200) / 10 ** 0.5 # helps vanishing or exploding the gradient\n",
    "y = x @ w\n",
    "print(x.mean(), x.std())\n",
    "print(y.mean(), y.std())\n",
    "plt.figure(figsize=(20, 5))\n",
    "plt.subplot(121)\n",
    "plt.hist(x.view(-1).tolist(), int(2*(len(x.view(-1).tolist()) ** (1. / 3))))\n",
    "plt.subplot(122)\n",
    "plt.hist(y.view(-1).tolist(), int(2*(len(y.view(-1).tolist()) ** (1. / 3))))"
   ]
  },
  {
   "cell_type": "code",
   "execution_count": 111,
   "id": "32a0c85f",
   "metadata": {},
   "outputs": [
    {
     "data": {
      "text/plain": [
       "tensor(0.2009)"
      ]
     },
     "execution_count": 111,
     "metadata": {},
     "output_type": "execute_result"
    }
   ],
   "source": [
    "(torch.randn(10000)).std() * 0.2"
   ]
  },
  {
   "cell_type": "code",
   "execution_count": 112,
   "id": "d357916b",
   "metadata": {},
   "outputs": [
    {
     "data": {
      "text/plain": [
       "0.3042903097250923"
      ]
     },
     "execution_count": 112,
     "metadata": {},
     "output_type": "execute_result"
    }
   ],
   "source": [
    "(5/3) / (30 ** 0.5)"
   ]
  },
  {
   "cell_type": "code",
   "execution_count": 116,
   "id": "7b0285ca",
   "metadata": {},
   "outputs": [
    {
     "name": "stdout",
     "output_type": "stream",
     "text": [
      "12097\n"
     ]
    }
   ],
   "source": [
    "# MLP impl\n",
    "n_embd = 10 # dimensionality of the character embedding vectors\n",
    "n_hidden = 200 # dimensionality of neurons in the hidden layer\n",
    "\n",
    "g = torch.Generator().manual_seed(21476891001)\n",
    "C = torch.randn((vocab_size, n_embd), generator=g) \n",
    "W1 = torch.randn((n_embd * block_size, n_hidden), generator=g) * (5/3) / (30 ** 0.5) # calculate gain / (n_embd * blocksize ** 0.5) normalize W for preactivation\n",
    "#b1 = torch.randn(n_hidden, generator=g) * 0.01\n",
    "W2 = torch.randn((n_hidden, vocab_size), generator=g) * 0.01\n",
    "b2 = torch.randn((vocab_size), generator=g) * 0\n",
    "\n",
    "bngain = torch.ones((1, n_hidden))\n",
    "bnbias = torch.zeros((1, n_hidden))\n",
    "bnmean_running = torch.zeros((1, n_hidden))\n",
    "bnstd_running = torch.ones((1, n_hidden)) \n",
    "\n",
    "parameters = [C, W1, W2, b2, bngain, bnbias]\n",
    "print(sum(p.nelement() for p in parameters))\n",
    "for p in parameters:\n",
    "    p.requires_grad = True"
   ]
  },
  {
   "cell_type": "code",
   "execution_count": 117,
   "id": "dd1e7994",
   "metadata": {},
   "outputs": [
    {
     "data": {
      "text/plain": [
       "(tensor([8.1729e-02, 6.9581e-07, 1.4416e-05, 9.1826e-01]), tensor(11.1472))"
      ]
     },
     "execution_count": 117,
     "metadata": {},
     "output_type": "execute_result"
    }
   ],
   "source": [
    "# initial loss = 32\n",
    "expected_loss = -torch.tensor(1 / 27).log()\n",
    "\n",
    "# 4-dim example of issue\n",
    "# logits = torch.tensor([0.0, 0.0, 0.0, 0.0])\n",
    "logits = torch.randn(4) * 10\n",
    "probs = torch.softmax(logits, dim=0)\n",
    "loss = -probs[2].log()\n",
    "probs, loss\n",
    "\n"
   ]
  },
  {
   "cell_type": "code",
   "execution_count": 118,
   "id": "218e5ef5",
   "metadata": {},
   "outputs": [
    {
     "name": "stdout",
     "output_type": "stream",
     "text": [
      "      0/ 200000: 3.291495\n",
      "  10000/ 200000: 2.395989\n",
      "  20000/ 200000: 2.293947\n",
      "  30000/ 200000: 2.019691\n",
      "  40000/ 200000: 2.308112\n",
      "  50000/ 200000: 2.381760\n",
      "  60000/ 200000: 2.193249\n",
      "  70000/ 200000: 1.732098\n",
      "  80000/ 200000: 2.299438\n",
      "  90000/ 200000: 1.861107\n",
      " 100000/ 200000: 2.428200\n",
      " 110000/ 200000: 1.884571\n",
      " 120000/ 200000: 2.142819\n",
      " 130000/ 200000: 2.015313\n",
      " 140000/ 200000: 2.425233\n",
      " 150000/ 200000: 2.012921\n",
      " 160000/ 200000: 2.014440\n",
      " 170000/ 200000: 2.100352\n",
      " 180000/ 200000: 1.942379\n",
      " 190000/ 200000: 1.964001\n"
     ]
    }
   ],
   "source": [
    "# optimization / training\n",
    "max_steps = 200000\n",
    "batch_size = 32\n",
    "lossi = []\n",
    "\n",
    "for i in range(max_steps):\n",
    "    \n",
    "    # train with mini batches\n",
    "    ix = torch.randint(0, Xtr.shape[0], (batch_size, ), generator=g)\n",
    "    Xb, Yb = Xtr[ix], Ytr[ix]\n",
    "    \n",
    "    # forward pass\n",
    "    emb = C[Xb]\n",
    "    embcat = emb.view(emb.shape[0], -1) # == torch.cat(torch.unbind(emb, 1), 1) - cat() allocates to a new memory\n",
    "    hpreact = embcat @ W1 # + b1 if added bias cancells out at bnmeani\n",
    "    bnmeani = hpreact.mean(0, keepdim=True)\n",
    "    bnstdi  = hpreact.std(0, keepdim=True)\n",
    "    # batch normalization layer\n",
    "    hpreact = bngain * (hpreact - bnmeani) / bnstdi + bnbias + 0.0000000001 # + epsilon\n",
    "    \n",
    "    with torch.no_grad():\n",
    "        bnmean_running = 0.999 * bnmean_running + 0.001 + bnmeani # offsetting and scaling to avoid jitter\n",
    "        bnstd_running = 0.999 * bnstd_running + 0.001 * bnstdi\n",
    "        \n",
    "    h = torch.tanh(hpreact)\n",
    "    logits = h @ W2 + b2\n",
    "    loss = F.cross_entropy(logits, Yb)\n",
    "    \n",
    "    # backward pass\n",
    "    for p in parameters: \n",
    "        p.grad = None\n",
    "    \n",
    "    loss.backward()\n",
    "    \n",
    "    lr = 0.1 if i < (max_steps / 2) else 0.01\n",
    "    for p in parameters:\n",
    "        p.data += p.grad * -lr\n",
    "        \n",
    "    if i % 10000 == 0:\n",
    "        print(f'{i:7d}/{max_steps:7d}: {loss.item():4f}')\n",
    "    lossi.append(loss.item())\n"
   ]
  },
  {
   "cell_type": "code",
   "execution_count": 119,
   "id": "04a259a1",
   "metadata": {},
   "outputs": [
    {
     "data": {
      "text/plain": [
       "<matplotlib.image.AxesImage at 0x17d7b4cd0>"
      ]
     },
     "execution_count": 119,
     "metadata": {},
     "output_type": "execute_result"
    },
    {
     "data": {
      "image/png": "[encoded data removed]",
      "text/plain": [
       "<Figure size 2000x1000 with 1 Axes>"
      ]
     },
     "metadata": {},
     "output_type": "display_data"
    }
   ],
   "source": [
    "plt.figure(figsize=(20, 10))\n",
    "plt.imshow(h.abs() > 0.99, cmap='grey', interpolation='nearest') #aboslute value of h, how ofren it is in the flat region(-1, 1)\n",
    "# all tanh neurons backward gradients are destroyed, dead neuron of complete white"
   ]
  },
  {
   "cell_type": "code",
   "execution_count": 120,
   "id": "aa885418",
   "metadata": {},
   "outputs": [
    {
     "data": {
      "text/plain": [
       "(array([518., 259., 223., 200., 148., 151., 135., 131., 155., 118., 106.,\n",
       "        100., 149., 137., 143., 148., 135., 162., 208., 157., 146., 133.,\n",
       "        139., 103., 111., 116., 116., 138., 130., 136., 133., 137., 173.,\n",
       "        178., 214., 268., 546.]),\n",
       " array([-0.99998349, -0.94593051, -0.89187754, -0.83782456, -0.78377158,\n",
       "        -0.72971861, -0.67566563, -0.62161266, -0.56755968, -0.5135067 ,\n",
       "        -0.45945373, -0.40540075, -0.35134777, -0.2972948 , -0.24324182,\n",
       "        -0.18918884, -0.13513587, -0.08108289, -0.02702992,  0.02702306,\n",
       "         0.08107604,  0.13512901,  0.18918199,  0.24323497,  0.29728794,\n",
       "         0.35134092,  0.4053939 ,  0.45944687,  0.51349985,  0.56755282,\n",
       "         0.6216058 ,  0.67565878,  0.72971175,  0.78376473,  0.83781771,\n",
       "         0.89187068,  0.94592366,  0.99997663]),\n",
       " <BarContainer object of 37 artists>)"
      ]
     },
     "execution_count": 120,
     "metadata": {},
     "output_type": "execute_result"
    },
    {
     "data": {
      "image/png": "[encoded data removed]",
      "text/plain": [
       "<Figure size 640x480 with 1 Axes>"
      ]
     },
     "metadata": {},
     "output_type": "display_data"
    }
   ],
   "source": [
    "\n",
    "plt.hist(h.view(-1).tolist(), int(2*(len(h.view(-1).tolist()) ** (1. / 3))))"
   ]
  },
  {
   "cell_type": "code",
   "execution_count": 121,
   "id": "91aea76e",
   "metadata": {},
   "outputs": [
    {
     "data": {
      "text/plain": [
       "(array([  1.,   0.,   1.,   2.,   5.,  10.,  15.,  17.,  40.,  52.,  68.,\n",
       "        131., 170., 220., 307., 403., 510., 592., 910., 685., 559., 426.,\n",
       "        361., 258., 196., 138., 104.,  86.,  39.,  38.,  27.,   9.,   7.,\n",
       "          6.,   2.,   3.,   2.]),\n",
       " array([-5.85318375, -5.54150081, -5.22981788, -4.91813495, -4.60645201,\n",
       "        -4.29476908, -3.98308615, -3.67140321, -3.35972028, -3.04803735,\n",
       "        -2.73635442, -2.42467148, -2.11298855, -1.80130562, -1.48962268,\n",
       "        -1.17793975, -0.86625682, -0.55457388, -0.24289095,  0.06879198,\n",
       "         0.38047492,  0.69215785,  1.00384078,  1.31552371,  1.62720665,\n",
       "         1.93888958,  2.25057251,  2.56225545,  2.87393838,  3.18562131,\n",
       "         3.49730425,  3.80898718,  4.12067011,  4.43235305,  4.74403598,\n",
       "         5.05571891,  5.36740184,  5.67908478]),\n",
       " <BarContainer object of 37 artists>)"
      ]
     },
     "execution_count": 121,
     "metadata": {},
     "output_type": "execute_result"
    },
    {
     "data": {
      "image/png": "[encoded data removed]",
      "text/plain": [
       "<Figure size 640x480 with 1 Axes>"
      ]
     },
     "metadata": {},
     "output_type": "display_data"
    }
   ],
   "source": [
    "plt.hist(hpreact.view(-1).tolist(), int(2*(len(hpreact.view(-1).tolist()) ** (1. / 3))))"
   ]
  },
  {
   "cell_type": "code",
   "execution_count": 126,
   "id": "8064ef27",
   "metadata": {},
   "outputs": [
    {
     "name": "stdout",
     "output_type": "stream",
     "text": [
      "torch.Size([1, 200])\n",
      "torch.Size([1, 200])\n"
     ]
    }
   ],
   "source": [
    "# calibrate batch norm at end of training cycles\n",
    "\n",
    "with torch.no_grad():\n",
    "    # pass the training through the set\n",
    "    emb = C[Xtr]\n",
    "    embcat = emb.view(emb.shape[0], -1)\n",
    "    hpreact = embcat @ W1 \n",
    "    \n",
    "    bnmean = hpreact.mean(0, keepdim=True)\n",
    "    bnstd = hpreact.std(0, keepdim=True)\n",
    "    print(bnstd_running.shape)\n",
    "    print(bnstd.shape)"
   ]
  },
  {
   "cell_type": "code",
   "execution_count": 127,
   "id": "0eec3880",
   "metadata": {},
   "outputs": [
    {
     "name": "stdout",
     "output_type": "stream",
     "text": [
      "train 2.074587106704712\n",
      "val 2.1068625450134277\n"
     ]
    }
   ],
   "source": [
    "@torch.no_grad() # disables grad tracking, no need to maintain the graph\n",
    "def split_loss(split):\n",
    "    x, y = {\n",
    "        'train': (Xtr, Ytr),\n",
    "        'val': (Xdev, Ydev),\n",
    "        'test': (Xte, Yte)\n",
    "    }[split]\n",
    "    \n",
    "    emb = C[x] #[embdn, block_size, ]\n",
    "    embcat = emb.view(emb.shape[0], -1) #concat into (N, block_size * n_embd)\n",
    "    hpreact = embcat @ W1 \n",
    "    # hpreact = bngain * (hpreact - hpreact.mean(1, keepdim=True)) / hpreact.std(1, keepdim=True) + bnbias\n",
    "    hpreact = bngain * (hpreact - bnmean) / bnstd + bnbias\n",
    "    h = torch.tanh(hpreact)\n",
    "    logits = h @ W2 + b2\n",
    "    loss = F.cross_entropy(logits, y)\n",
    "    print(split, loss.item())\n",
    "\n",
    "split_loss('train')\n",
    "split_loss('val')"
   ]
  },
  {
   "cell_type": "code",
   "execution_count": 130,
   "id": "407c2650",
   "metadata": {},
   "outputs": [
    {
     "name": "stdout",
     "output_type": "stream",
     "text": [
      "emyna.\n",
      "onnit.\n",
      "gina.\n",
      "yulaniel.\n",
      "muzsinn.\n",
      "war.\n",
      "alle.\n",
      "nicorram.\n",
      "nae.\n",
      "coina.\n",
      "sta.\n",
      "kafarre.\n",
      "inda.\n",
      "tayrah.\n",
      "ash.\n",
      "iya.\n",
      "ise.\n",
      "anji.\n",
      "nusheke.\n",
      "jaeriya.\n"
     ]
    }
   ],
   "source": [
    "# sample from the model\n",
    "g = torch.Generator().manual_seed(21476891001)\n",
    "\n",
    "for _ in range(20):\n",
    "    out = []\n",
    "    context = [0] * block_size\n",
    "    \n",
    "    while True:\n",
    "        emb = C[torch.tensor(context)] #(1, block_size, n_embd)\n",
    "        embcat = emb.view(1, -1)\n",
    "        hpreact = embcat @ W1\n",
    "        hpreact = bngain * (hpreact - bnmean) / bnstd + bnbias\n",
    "        h = torch.tanh(hpreact)\n",
    "        logits = h @ W2 + b2\n",
    "        probs = F.softmax(logits, dim=1)\n",
    "        ix = torch.multinomial(probs, num_samples=1, generator=g).item()\n",
    "        context = context[1:] + [ix]\n",
    "        out.append(ix)\n",
    "        if ix == 0:\n",
    "            break;\n",
    "    print(''.join(itos[i] for i in out))"
   ]
  },
  {
   "cell_type": "code",
   "execution_count": null,
   "id": "151e2204",
   "metadata": {},
   "outputs": [],
   "source": []
  }
 ],
 "metadata": {
  "kernelspec": {
   "display_name": "Python 3 (ipykernel)",
   "language": "python",
   "name": "python3"
  },
  "language_info": {
   "codemirror_mode": {
    "name": "ipython",
    "version": 3
   },
   "file_extension": ".py",
   "mimetype": "text/x-python",
   "name": "python",
   "nbconvert_exporter": "python",
   "pygments_lexer": "ipython3",
   "version": "3.11.6"
  }
 },
 "nbformat": 4,
 "nbformat_minor": 5
}
