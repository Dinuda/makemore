{
 "cells": [
  {
   "cell_type": "code",
   "execution_count": 183,
   "id": "e57fcd06",
   "metadata": {},
   "outputs": [],
   "source": [
    "import torch\n",
    "import random\n",
    "import torch.nn.functional as F\n",
    "import matplotlib.pyplot as plt\n",
    "%matplotlib inline"
   ]
  },
  {
   "cell_type": "code",
   "execution_count": 184,
   "id": "7fef6d1a",
   "metadata": {},
   "outputs": [],
   "source": [
    "words = open('names.txt', 'r').read().splitlines()"
   ]
  },
  {
   "cell_type": "code",
   "execution_count": 185,
   "id": "3ed7fb07",
   "metadata": {},
   "outputs": [],
   "source": [
    "chars = sorted(list(set(''.join(words))))"
   ]
  },
  {
   "cell_type": "code",
   "execution_count": 186,
   "id": "37311552",
   "metadata": {},
   "outputs": [],
   "source": [
    "stoi = {s:i+1 for i, s in enumerate(chars)}\n",
    "stoi['.'] = 0\n",
    "itos = {i:s for s, i in stoi.items()}"
   ]
  },
  {
   "cell_type": "code",
   "execution_count": 498,
   "id": "7a0af231",
   "metadata": {},
   "outputs": [],
   "source": [
    "block_size = 6"
   ]
  },
  {
   "cell_type": "code",
   "execution_count": 499,
   "id": "2fd74c9e",
   "metadata": {},
   "outputs": [],
   "source": [
    "# split the data into 80%, 10%, 10%\n",
    "def build_dataset(words):\n",
    "    X, Y = [], []\n",
    "\n",
    "    for w in words:\n",
    "        context = [0] * block_size\n",
    "        for ch in w + '.':\n",
    "            ix = stoi[ch]\n",
    "            X.append(context)\n",
    "            Y.append(ix)\n",
    "            context = context[1:] + [ix]\n",
    "\n",
    "    X = torch.tensor(X)\n",
    "    Y = torch.tensor(Y)\n",
    "    return X, Y"
   ]
  },
  {
   "cell_type": "code",
   "execution_count": 822,
   "id": "2eb4486f",
   "metadata": {},
   "outputs": [],
   "source": [
    "random.seed(42)\n",
    "random.shuffle(words)\n",
    "n1 = int(len(words)*0.8)\n",
    "n2 = int(len(words)*0.9)\n",
    "Xtr, Ytr = build_dataset(words[:n1])\n",
    "Xdev, Ydev = build_dataset(words[:n2])\n",
    "Xte, Yte = build_dataset(words[n2:])"
   ]
  },
  {
   "cell_type": "code",
   "execution_count": 742,
   "id": "69a76dc8",
   "metadata": {},
   "outputs": [],
   "source": [
    "neuron_count = 200\n",
    "input_dim = 30\n",
    "C = torch.randn((27, input_dim)) #fit in 2d space\n",
    "W1 = torch.randn((block_size*input_dim, 2*block_size*input_dim))\n",
    "b1 = torch.randn(2*block_size*input_dim)\n",
    "# W2 = torch.full((2*block_size*input_dim, 27),(1 / 27))\n",
    "# b2 = torch.zeros(27)\n",
    "W2 = torch.randn((2*block_size*input_dim, 27))\n",
    "b2 = torch.randn(27)\n",
    "# W3 = torch.full((40, 27),(1 / 27))\n",
    "# b3 = torch.zeros(27)"
   ]
  },
  {
   "cell_type": "code",
   "execution_count": 743,
   "id": "3aba46f7",
   "metadata": {},
   "outputs": [],
   "source": [
    "parameters = [C, W1, b1, W2, b2]"
   ]
  },
  {
   "cell_type": "code",
   "execution_count": 744,
   "id": "ec0e5f3c",
   "metadata": {},
   "outputs": [],
   "source": [
    "for p in parameters:\n",
    "    p.requires_grad = True"
   ]
  },
  {
   "cell_type": "code",
   "execution_count": 873,
   "id": "ce09190f",
   "metadata": {},
   "outputs": [],
   "source": [
    "import torch.nn as nn\n",
    "\n",
    "input_dim = 20\n",
    "block_size = 3\n",
    "neuron_count = 200\n",
    "\n",
    "# Define the model\n",
    "class makemore(nn.Module):\n",
    "    def __init__(self):\n",
    "        super(makemore, self).__init__()\n",
    "        self.C = nn.Parameter(torch.randn((27, input_dim)))\n",
    "        self.bn1 = nn.BatchNorm1d(2 * block_size * input_dim)\n",
    "        self.W1 = nn.Parameter(torch.randn((block_size * input_dim, 2 * block_size * input_dim)))\n",
    "        self.b1 = nn.Parameter(torch.randn(2 * block_size * input_dim))\n",
    "        self.W2 = nn.Parameter(torch.randn((2 * block_size * input_dim, 27)))\n",
    "        self.b2 = nn.Parameter(torch.randn(27))\n",
    "        self.parameters = [self.C, self.W1, self.b1, self.W2, self.b2]\n",
    "        for p in self.parameters:\n",
    "            p.requires_grad = True\n",
    "\n",
    "    def forward(self, emb):\n",
    "        x = torch.tanh(self.bn1(emb.view(emb.shape[0], -1) @ self.W1) + self.b1)  # Apply batch normalization and activation\n",
    "        x = torch.matmul(x, self.W2) + self.b2  # Multiply with W2 and add bias\n",
    "        return x, self.parameters\n",
    "\n",
    "# Create an instance of the model\n",
    "model = makemore()"
   ]
  },
  {
   "cell_type": "code",
   "execution_count": 874,
   "id": "f4f37ee3",
   "metadata": {},
   "outputs": [
    {
     "data": {
      "text/plain": [
       "11127"
      ]
     },
     "execution_count": 874,
     "metadata": {},
     "output_type": "execute_result"
    }
   ],
   "source": [
    "sum(p.nelement() for p in model.parameters)"
   ]
  },
  {
   "cell_type": "code",
   "execution_count": 875,
   "id": "344b865b",
   "metadata": {},
   "outputs": [],
   "source": [
    "lre = torch.linspace(-3, 0, 1000) #goal is to start from 10**-3\n",
    "lrs = 10**lre"
   ]
  },
  {
   "cell_type": "code",
   "execution_count": 876,
   "id": "22b34a71",
   "metadata": {},
   "outputs": [],
   "source": [
    "lossi = []\n",
    "lri = []\n",
    "stepi = []"
   ]
  },
  {
   "cell_type": "code",
   "execution_count": 877,
   "id": "78023c74",
   "metadata": {},
   "outputs": [
    {
     "name": "stdout",
     "output_type": "stream",
     "text": [
      "5.525208950042725\n"
     ]
    }
   ],
   "source": [
    "import torch.nn.functional as F\n",
    "\n",
    "for i in range(1000):\n",
    "    ix = torch.randint(0, Xtr.shape[0], (neuron_count,))\n",
    "    emb = model.C[Xtr[ix]]\n",
    "    h1, _ = model(emb)  # Call the forward method of the model\n",
    "\n",
    "    # h2 = torch.tanh(h1 @ W2 + b2)\n",
    "    # h3 = torch.tanh(h2 @ W3 + b3)\n",
    "\n",
    "    logits = h1  # The model's forward method already returns the logits\n",
    "\n",
    "    loss = F.cross_entropy(logits, Ytr[ix])\n",
    "\n",
    "    for p in model.parameters:\n",
    "        p.grad = None\n",
    "\n",
    "    loss.backward()\n",
    "\n",
    "    lossi.append(loss.log10().item())\n",
    "    stepi.append(i)\n",
    "\n",
    "    # lr = lrs[i]\n",
    "    lr = 0.01\n",
    "\n",
    "    for p in model.parameters:\n",
    "        p.data += p.grad * -lr\n",
    "\n",
    "print(loss.item())"
   ]
  },
  {
   "cell_type": "code",
   "execution_count": 798,
   "id": "55351c6b",
   "metadata": {},
   "outputs": [
    {
     "data": {
      "text/plain": [
       "[<matplotlib.lines.Line2D at 0x1545d4ed0>]"
      ]
     },
     "execution_count": 798,
     "metadata": {},
     "output_type": "execute_result"
    },
    {
     "data": {
      "image/png": "[encoded data removed]",
      "text/plain": [
       "<Figure size 640x480 with 1 Axes>"
      ]
     },
     "metadata": {},
     "output_type": "display_data"
    }
   ],
   "source": [
    "plt.plot(stepi, lossi)"
   ]
  },
  {
   "cell_type": "code",
   "execution_count": 622,
   "id": "84668b51",
   "metadata": {},
   "outputs": [
    {
     "name": "stdout",
     "output_type": "stream",
     "text": [
      "tensor(2.5441, grad_fn=<NllLossBackward0>)\n"
     ]
    }
   ],
   "source": [
    "# test with training data\n",
    "\n",
    "emb = C[Xtr]\n",
    "h = torch.tanh(emb.view(emb.shape[0], -1) @ W1 + b1)\n",
    "logits = h @ W2 + b2\n",
    "loss = F.cross_entropy(logits, Ytr)\n",
    "\n",
    "print(loss)"
   ]
  },
  {
   "cell_type": "code",
   "execution_count": 623,
   "id": "5c1cb581",
   "metadata": {},
   "outputs": [
    {
     "name": "stdout",
     "output_type": "stream",
     "text": [
      "tensor(2.5563, grad_fn=<NllLossBackward0>)\n"
     ]
    }
   ],
   "source": [
    "# test with dev data\n",
    "\n",
    "emb = C[Xdev]\n",
    "h = torch.tanh(emb.view(emb.shape[0], -1) @ W1 + b1)\n",
    "logits = h @ W2 + b2\n",
    "loss = F.cross_entropy(logits, Ydev)\n",
    "\n",
    "print(loss)"
   ]
  },
  {
   "cell_type": "code",
   "execution_count": 624,
   "id": "e6fd7417",
   "metadata": {},
   "outputs": [
    {
     "data": {
      "image/png": "[encoded data removed]",
      "text/plain": [
       "<Figure size 800x800 with 1 Axes>"
      ]
     },
     "metadata": {},
     "output_type": "display_data"
    }
   ],
   "source": [
    "plt.figure(figsize=(8, 8))\n",
    "plt.scatter(C[:,0].data, C[:,1].data, s=200)\n",
    "for i in range(C.shape[0]):\n",
    "    plt.text(C[i, 0].item(),C[i, 1].item(), itos[i], ha=\"center\", va=\"center\", color=\"white\")\n",
    "plt.grid(\"minor\")"
   ]
  },
  {
   "cell_type": "code",
   "execution_count": 625,
   "id": "3a5a0709",
   "metadata": {},
   "outputs": [
    {
     "name": "stdout",
     "output_type": "stream",
     "text": [
      "chamahzaad.\n",
      "havikh.\n",
      "mishith.\n",
      "mahkanshkeemahnin.\n",
      "mmesyrci.\n",
      "geniyah.\n",
      "mariyah.\n",
      "ihvika.\n",
      "mikydham.\n",
      "michiquinnas.\n",
      "livannah.\n",
      "bisique.\n",
      "madiarysi.\n",
      "mikenzi.\n",
      "sabiel.\n",
      "zaiiana.\n",
      "malhanai.\n",
      "valanii.\n",
      "mahksyahnaniomiz.\n",
      "zyionna.\n"
     ]
    }
   ],
   "source": [
    "g = torch.Generator().manual_seed(2147483647 + 10)\n",
    "\n",
    "for _ in range(20):\n",
    "    out = []\n",
    "    context = [0] * block_size\n",
    "    while True:\n",
    "        emb = C[torch.tensor([context])]\n",
    "        h1 = torch.tanh(emb.view(1, -1) @ W1 + b1)\n",
    "#         h2 = torch.tanh(h1 @ W2 + b2)\n",
    "#         h3 = torch.tanh(h2 @ W3 + b3)\n",
    "        logits = h1 @ W2 + b2\n",
    "        probs = F.softmax(logits, dim=1)\n",
    "        ix = torch.multinomial(probs, num_samples=1, generator=g).item()\n",
    "        context = context[1:] + [ix]\n",
    "        out.append(ix)\n",
    "        if(ix == 0):\n",
    "            break\n",
    "    print(''.join(itos[i] for i in out))"
   ]
  },
  {
   "cell_type": "code",
   "execution_count": null,
   "id": "2f90a26f",
   "metadata": {},
   "outputs": [],
   "source": []
  },
  {
   "cell_type": "code",
   "execution_count": null,
   "id": "3ad48528",
   "metadata": {},
   "outputs": [],
   "source": []
  }
 ],
 "metadata": {
  "kernelspec": {
   "display_name": "Python 3 (ipykernel)",
   "language": "python",
   "name": "python3"
  },
  "language_info": {
   "codemirror_mode": {
    "name": "ipython",
    "version": 3
   },
   "file_extension": ".py",
   "mimetype": "text/x-python",
   "name": "python",
   "nbconvert_exporter": "python",
   "pygments_lexer": "ipython3",
   "version": "3.11.5"
  }
 },
 "nbformat": 4,
 "nbformat_minor": 5
}
